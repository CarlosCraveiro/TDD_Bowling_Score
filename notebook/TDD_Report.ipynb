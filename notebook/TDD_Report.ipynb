{
 "cells": [
  {
   "cell_type": "markdown",
   "id": "c588843c-fd55-4fd4-9183-18f8839452cc",
   "metadata": {},
   "source": [
    "# TDD - Bowling Score"
   ]
  },
  {
   "cell_type": "markdown",
   "id": "16e795c3-d59b-484d-84e7-c2ad8a34bb1c",
   "metadata": {},
   "source": [
    "## First Version (V1)"
   ]
  },
  {
   "cell_type": "code",
   "execution_count": null,
   "id": "d64d4a4f-d70a-4cd2-9049-abd0ae6a1768",
   "metadata": {},
   "outputs": [],
   "source": [
    "import unittest"
   ]
  },
  {
   "cell_type": "code",
   "execution_count": null,
   "id": "d6fd15e1-f851-431a-b176-56ea123ec109",
   "metadata": {},
   "outputs": [],
   "source": [
    "class BowlingGame:\n",
    "    def __init__(self):\n",
    "        self.number_of_turns = 10\n",
    "        \n",
    "    def compute_score(self, s):\n",
    "        score = 0\n",
    "        for i in range(self.number_of_turns):\n",
    "            if(s[i] != '-'):\n",
    "                score = score + int(s[i])\n",
    "        return score"
   ]
  },
  {
   "cell_type": "code",
   "execution_count": null,
   "id": "bc8e81e1-b3ac-4a0d-b4bb-a2dd8d9398dd",
   "metadata": {},
   "outputs": [],
   "source": [
    "class BowlingTest(unittest.TestCase):\n",
    "  \n",
    "    def test_noob_player(self):\n",
    "        '''Test case function for when the player (beginner/noob) does not make any spares or strikes'''\n",
    "        self.bowlingGame = BowlingGame()\n",
    "        result = self.bowlingGame.compute_score(\"00000000000000000000-\")\n",
    "        expected = 0\n",
    "        self.assertEqual(result, expected)\n",
    "        result = self.bowlingGame.compute_score(\"10000000000000000000-\")\n",
    "        expected = 1\n",
    "        self.assertEqual(result, expected)\n",
    "        result = self.bowlingGame.compute_score(\"12000000000000000000-\")\n",
    "        expected = 3\n",
    "        self.assertEqual(result, expected)"
   ]
  },
  {
   "cell_type": "code",
   "execution_count": null,
   "id": "b5c0c4ef-f150-43ce-b3ed-58e5a57fe698",
   "metadata": {},
   "outputs": [],
   "source": [
    "unittest.main(argv=[''], verbosity=2, exit=False)"
   ]
  },
  {
   "cell_type": "code",
   "execution_count": null,
   "id": "e3145ebd-ac6e-43e3-8899-b636b5c79947",
   "metadata": {},
   "outputs": [],
   "source": []
  }
 ],
 "metadata": {
  "kernelspec": {
   "display_name": "Python 3 (ipykernel)",
   "language": "python",
   "name": "python3"
  },
  "language_info": {
   "codemirror_mode": {
    "name": "ipython",
    "version": 3
   },
   "file_extension": ".py",
   "mimetype": "text/x-python",
   "name": "python",
   "nbconvert_exporter": "python",
   "pygments_lexer": "ipython3",
   "version": "3.12.3"
  }
 },
 "nbformat": 4,
 "nbformat_minor": 5
}
